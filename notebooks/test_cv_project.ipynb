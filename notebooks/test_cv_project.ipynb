{
  "nbformat": 4,
  "nbformat_minor": 0,
  "metadata": {
    "colab": {
      "name": "test_cv_project.ipynb",
      "provenance": [],
      "collapsed_sections": [],
      "authorship_tag": "ABX9TyNglvF3fyxN2gYk/ILW3nhl",
      "include_colab_link": true
    },
    "kernelspec": {
      "name": "python3",
      "display_name": "Python 3"
    },
    "accelerator": "GPU"
  },
  "cells": [
    {
      "cell_type": "markdown",
      "metadata": {
        "id": "view-in-github",
        "colab_type": "text"
      },
      "source": [
        "<a href=\"https://colab.research.google.com/github/9uru/cv_projects/blob/master/test_cv_project.ipynb\" target=\"_parent\"><img src=\"https://colab.research.google.com/assets/colab-badge.svg\" alt=\"Open In Colab\"/></a>"
      ]
    },
    {
      "cell_type": "code",
      "metadata": {
        "id": "rE5J92xm-QqB",
        "colab_type": "code",
        "colab": {}
      },
      "source": [
        "import tensorflow as tf\n",
        "device_name = tf.test.gpu_device_name()\n",
        "\n",
        "print('Found GPU at: {}'.format(device_name))"
      ],
      "execution_count": 0,
      "outputs": []
    },
    {
      "cell_type": "code",
      "metadata": {
        "id": "8N3ZKBulBKgJ",
        "colab_type": "code",
        "colab": {}
      },
      "source": [
        "%cd cv_projects\n"
      ],
      "execution_count": 0,
      "outputs": []
    },
    {
      "cell_type": "code",
      "metadata": {
        "id": "50ejRiVl8d9K",
        "colab_type": "code",
        "colab": {}
      },
      "source": [
        "import os\n",
        "import datetime\n",
        "from typing import Tuple\n",
        "import numpy as np\n",
        "from tensorflow.keras.losses import categorical_crossentropy\n",
        "from tensorflow.keras.datasets import mnist\n",
        "from tensorflow.keras import utils\n",
        "from tensorflow.keras.callbacks import TensorBoard\n",
        "from src.architectures.lenet import LeNet\n",
        "from src.architectures.alexnet import AlexNet\n",
        "from src import util\n",
        "from typing import Tuple"
      ],
      "execution_count": 0,
      "outputs": []
    },
    {
      "cell_type": "code",
      "metadata": {
        "id": "bmne1tLa8qny",
        "colab_type": "code",
        "colab": {}
      },
      "source": [
        "def load_preprocess_mnist(\n",
        "        target_im_size: Tuple[int]) -> Tuple[np.ndarray]:\n",
        "    '''\n",
        "    Load and preprocess mnist dataset\n",
        "    '''\n",
        "    (x_train, y_train), (x_test, y_test) = mnist.load_data()\n",
        "    x_train = util.resize_dataset(x_train, target_im_size)\n",
        "    x_test = util.resize_dataset(x_test, target_im_size)\n",
        "    _, height, width = x_train.shape\n",
        "\n",
        "    # Set numeric type to float32 from uint8\n",
        "    x_train = x_train.astype(np.float32)\n",
        "    x_test = x_test.astype(np.float32)\n",
        "\n",
        "    # Normalize value to [0, 1]\n",
        "    x_train /= 255\n",
        "    x_test /= 255\n",
        "\n",
        "    # Transform lables to one-hot encoding\n",
        "    y_train = utils.to_categorical(y_train, 10)\n",
        "    y_test = utils.to_categorical(y_test, 10)\n",
        "\n",
        "    # Reshape the dataset into 4D array\n",
        "    x_train = x_train.reshape(x_train.shape[0], height, width, 1)\n",
        "    x_test = x_test.reshape(x_test.shape[0], height, width, 1)\n",
        "\n",
        "    return x_train, y_train, x_test, y_test"
      ],
      "execution_count": 0,
      "outputs": []
    },
    {
      "cell_type": "code",
      "metadata": {
        "id": "f1z4CpdW8uUq",
        "colab_type": "code",
        "colab": {}
      },
      "source": [
        "x_train, y_train, x_test, y_test = load_preprocess_mnist(target_im_size=(28, 28))"
      ],
      "execution_count": 0,
      "outputs": []
    },
    {
      "cell_type": "code",
      "metadata": {
        "id": "Lp1LwTTr8xuR",
        "colab_type": "code",
        "colab": {}
      },
      "source": [
        "def test_lenet_mnist():\n",
        "    '''\n",
        "    train and test lenet on mnist\n",
        "    '''\n",
        "\n",
        "    x_train, y_train, x_test, y_test = load_preprocess_mnist(\n",
        "        target_im_size=(28, 28))\n",
        "\n",
        "    model = LeNet(x_train[0].shape, 10)\n",
        "\n",
        "    model.compile(\n",
        "        loss=categorical_crossentropy,\n",
        "        optimizer='SGD',\n",
        "        metrics=['accuracy']\n",
        "    )\n",
        "\n",
        "    # log_dir = os.path.join(\n",
        "    #     \"logs\\\\fit\\\\\",\n",
        "    #     datetime.datetime.now().strftime('%Y%m%d-%H%M%S'))\n",
        "    # if not os.path.isdir(log_dir):\n",
        "    #     os.makedirs(log_dir)\n",
        "    # # Specify the callback object\n",
        "    # tensorboard_callback = TensorBoard(\n",
        "    #     log_dir=log_dir,\n",
        "    #     histogram_freq=1)\n",
        "\n",
        "    model.fit(\n",
        "        x_train,\n",
        "        y=y_train,\n",
        "        epochs=20,\n",
        "        validation_data=(x_test, y_test),\n",
        "        # callbacks=[tensorboard_callback],\n",
        "        verbose=True)"
      ],
      "execution_count": 0,
      "outputs": []
    },
    {
      "cell_type": "code",
      "metadata": {
        "id": "UOzV-KAO9G0a",
        "colab_type": "code",
        "colab": {}
      },
      "source": [
        "test_lenet_mnist()"
      ],
      "execution_count": 0,
      "outputs": []
    },
    {
      "cell_type": "code",
      "metadata": {
        "id": "oqQ1fMEQ9JdQ",
        "colab_type": "code",
        "colab": {}
      },
      "source": [
        "with tf.device('/device:GPU:0'):\n",
        "  test_lenet_mnist()"
      ],
      "execution_count": 0,
      "outputs": []
    },
    {
      "cell_type": "code",
      "metadata": {
        "id": "v8mHvIIjEqv_",
        "colab_type": "code",
        "colab": {}
      },
      "source": [
        "with tf.device('/cpu:0'):\n",
        "  test_lenet_mnist()"
      ],
      "execution_count": 0,
      "outputs": []
    },
    {
      "cell_type": "code",
      "metadata": {
        "id": "kh6BF5RLFJay",
        "colab_type": "code",
        "colab": {}
      },
      "source": [
        "def test_alexnet_mnist():\n",
        "    '''\n",
        "    train and test lenet on mnist\n",
        "    '''\n",
        "\n",
        "    x_train, y_train, x_test, y_test = load_preprocess_mnist(\n",
        "        target_im_size=(112, 112))\n",
        "\n",
        "    model = AlexNet(x_train[0].shape, 10)\n",
        "\n",
        "    model.compile(\n",
        "        loss=categorical_crossentropy,\n",
        "        optimizer='SGD',\n",
        "        metrics=['accuracy']\n",
        "    )\n",
        "\n",
        "    # log_dir = os.path.join(\n",
        "    #     \"logs\\\\fit\\\\\",\n",
        "    #     datetime.datetime.now().strftime('%Y%m%d-%H%M%S'))\n",
        "    # if not os.path.isdir(log_dir):\n",
        "    #     os.makedirs(log_dir)\n",
        "    # # Specify the callback object\n",
        "    # tensorboard_callback = TensorBoard(\n",
        "    #     log_dir=log_dir,\n",
        "    #     histogram_freq=1)\n",
        "\n",
        "    model.fit(\n",
        "        x_train,\n",
        "        y=y_train,\n",
        "        epochs=20,\n",
        "        validation_data=(x_test, y_test),\n",
        "        # callbacks=[tensorboard_callback],\n",
        "        verbose=True)\n"
      ],
      "execution_count": 0,
      "outputs": []
    },
    {
      "cell_type": "code",
      "metadata": {
        "id": "PAAyE9KwIcN3",
        "colab_type": "code",
        "colab": {}
      },
      "source": [
        "with tf.device('/device:GPU:0'):\n",
        "  test_alexnet_mnist()"
      ],
      "execution_count": 0,
      "outputs": []
    },
    {
      "cell_type": "code",
      "metadata": {
        "id": "edLcRdMOIfU7",
        "colab_type": "code",
        "colab": {}
      },
      "source": [
        ""
      ],
      "execution_count": 0,
      "outputs": []
    }
  ]
}